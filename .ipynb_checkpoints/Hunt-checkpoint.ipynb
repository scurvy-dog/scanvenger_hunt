{
 "cells": [
  {
   "cell_type": "markdown",
   "metadata": {},
   "source": [
    "## Testing of room code"
   ]
  },
  {
   "cell_type": "code",
   "execution_count": 6,
   "metadata": {
    "collapsed": true
   },
   "outputs": [],
   "source": [
    "from room import *\n"
   ]
  },
  {
   "cell_type": "code",
   "execution_count": 7,
   "metadata": {
    "collapsed": false
   },
   "outputs": [
    {
     "name": "stdout",
     "output_type": "stream",
     "text": [
      "3\n",
      "You enter what is not a room at all, but a vast desert landscape.  The sky is impossibly blue and seems to stretch forever.  The sun is directly overhead and beats down pitilessly, baking you with the scent of hot stone.  As you look around, what you at first thought as utterly featureless has what remains of a petrified forest off in the distance to the left.  Behind you is your mother's blue Buick, with a picnic basket on the hood.  Athena noses the basket and pulls a chicken bone from it.\n",
      "2, 3\n",
      "0\n",
      "0\n",
      "1, 4, 5\n"
     ]
    }
   ],
   "source": [
    "cRoom = Room()\n",
    "\n",
    "cRoom.loadroom(3)\n",
    "\n",
    "print cRoom.id\n",
    "print cRoom.description\n",
    "print cRoom.item\n",
    "print cRoom.monster\n",
    "print cRoom.puzzle\n",
    "print cRoom.exits"
   ]
  },
  {
   "cell_type": "code",
   "execution_count": null,
   "metadata": {
    "collapsed": true
   },
   "outputs": [],
   "source": []
  }
 ],
 "metadata": {
  "kernelspec": {
   "display_name": "Python 2",
   "language": "python",
   "name": "python2"
  },
  "language_info": {
   "codemirror_mode": {
    "name": "ipython",
    "version": 2
   },
   "file_extension": ".py",
   "mimetype": "text/x-python",
   "name": "python",
   "nbconvert_exporter": "python",
   "pygments_lexer": "ipython2",
   "version": "2.7.10"
  }
 },
 "nbformat": 4,
 "nbformat_minor": 2
}
